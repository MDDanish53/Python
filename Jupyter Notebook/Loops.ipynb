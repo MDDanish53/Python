{
 "cells": [
  {
   "cell_type": "markdown",
   "id": "8c31af73-9750-48b9-b09b-4657e2a638b3",
   "metadata": {},
   "source": [
    "## for Loop"
   ]
  },
  {
   "cell_type": "markdown",
   "id": "769e81b0-a898-400b-993b-36f8f3473abc",
   "metadata": {},
   "source": [
    "## 1. Generating numbers using for loop and range function"
   ]
  },
  {
   "cell_type": "code",
   "execution_count": 3,
   "id": "3cc351d8-dc25-469c-9830-26c257f50159",
   "metadata": {},
   "outputs": [
    {
     "name": "stdout",
     "output_type": "stream",
     "text": [
      "1\n",
      "2\n",
      "3\n",
      "4\n",
      "5\n",
      "6\n",
      "7\n",
      "8\n",
      "9\n",
      "10\n"
     ]
    }
   ],
   "source": [
    "for i in range(1, 11):\n",
    "    print(i)"
   ]
  },
  {
   "cell_type": "markdown",
   "id": "f64169d2-0642-4831-b9ea-a898725dab66",
   "metadata": {},
   "source": [
    "## 2. Printing even numbers from 1 to 16"
   ]
  },
  {
   "cell_type": "code",
   "execution_count": 7,
   "id": "d6da7008-621b-40c6-a312-20aeb65fe44b",
   "metadata": {},
   "outputs": [
    {
     "name": "stdout",
     "output_type": "stream",
     "text": [
      "2\n",
      "4\n",
      "6\n",
      "8\n",
      "10\n",
      "12\n",
      "14\n",
      "16\n"
     ]
    }
   ],
   "source": [
    "for num in range(1, 17):\n",
    "    if(num%2 == 0):\n",
    "        print(num)"
   ]
  },
  {
   "cell_type": "markdown",
   "id": "2bc3170f-fe6c-4487-83db-8d8aedb2fe8c",
   "metadata": {},
   "source": [
    "## 3. Printing characters of strings"
   ]
  },
  {
   "cell_type": "code",
   "execution_count": 8,
   "id": "46fa0528-2b1f-4825-8949-f2623826780c",
   "metadata": {},
   "outputs": [
    {
     "name": "stdout",
     "output_type": "stream",
     "text": [
      "M\n",
      "o\n",
      "h\n",
      "a\n",
      "m\n",
      "m\n",
      "a\n",
      "d\n",
      " \n",
      "D\n",
      "a\n",
      "n\n",
      "i\n",
      "s\n",
      "h\n"
     ]
    }
   ],
   "source": [
    "string = \"Mohammad Danish\"\n",
    "for char in string:\n",
    "    print(char)\n",
    "    "
   ]
  },
  {
   "cell_type": "markdown",
   "id": "d7b0aa7f-7c4e-4aad-a03b-a0dec6f4370e",
   "metadata": {},
   "source": [
    "## 4. Printing list elements"
   ]
  },
  {
   "cell_type": "code",
   "execution_count": 9,
   "id": "2665fc13-ab12-4174-b5f2-8af1580043b9",
   "metadata": {},
   "outputs": [
    {
     "name": "stdout",
     "output_type": "stream",
     "text": [
      "Mohammad\n",
      "Danish\n",
      "1\n",
      "True\n",
      "False\n",
      "65\n"
     ]
    }
   ],
   "source": [
    "List = [\"Mohammad\", \"Danish\", 1, True, False, 65]\n",
    "for element in List:\n",
    "    print(element)"
   ]
  },
  {
   "cell_type": "markdown",
   "id": "a18bd2e2-8a34-4dfb-92ad-4caadff55998",
   "metadata": {},
   "source": [
    "## 5. Printing keys of dictionary"
   ]
  },
  {
   "cell_type": "code",
   "execution_count": 13,
   "id": "64cab43a-3311-402e-908b-e4a660a7b595",
   "metadata": {},
   "outputs": [
    {
     "name": "stdout",
     "output_type": "stream",
     "text": [
      "Name\n",
      "Surname\n",
      "45\n"
     ]
    }
   ],
   "source": [
    "dict = {\"Name\": \"Danish\", \"Surname\": \"Siddique\", 45: 54}\n",
    "for pair in dict:\n",
    "    print(pair)"
   ]
  },
  {
   "cell_type": "code",
   "execution_count": null,
   "id": "fbb88888-65ca-4a5f-8d28-dff5d95e7147",
   "metadata": {},
   "outputs": [],
   "source": []
  }
 ],
 "metadata": {
  "kernelspec": {
   "display_name": "Python 3 (ipykernel)",
   "language": "python",
   "name": "python3"
  },
  "language_info": {
   "codemirror_mode": {
    "name": "ipython",
    "version": 3
   },
   "file_extension": ".py",
   "mimetype": "text/x-python",
   "name": "python",
   "nbconvert_exporter": "python",
   "pygments_lexer": "ipython3",
   "version": "3.9.2"
  }
 },
 "nbformat": 4,
 "nbformat_minor": 5
}
