{
 "cells": [
  {
   "cell_type": "markdown",
   "id": "b0aad0ed-c71a-4652-8f73-92b8257b771c",
   "metadata": {},
   "source": [
    "## Creating a tuple"
   ]
  },
  {
   "cell_type": "code",
   "execution_count": 2,
   "id": "14a1b17f-e991-49ef-8e32-a440fb87f637",
   "metadata": {},
   "outputs": [
    {
     "name": "stdout",
     "output_type": "stream",
     "text": [
      "(2, 'Mohammad')\n",
      "<class 'tuple'>\n"
     ]
    }
   ],
   "source": [
    "tuple1 = (2, \"Mohammad\")\n",
    "print(tuple1)\n",
    "print(type(tuple1))"
   ]
  },
  {
   "cell_type": "markdown",
   "id": "5a322c72-616d-459e-8ee9-5daeaabf02dd",
   "metadata": {},
   "source": [
    "## Creating an empty tuple"
   ]
  },
  {
   "cell_type": "code",
   "execution_count": 3,
   "id": "e23b2629-2e5b-4843-a13d-60caaf0c69d5",
   "metadata": {},
   "outputs": [
    {
     "name": "stdout",
     "output_type": "stream",
     "text": [
      "()\n",
      "<class 'tuple'>\n"
     ]
    }
   ],
   "source": [
    "empty_tuple = ()\n",
    "print(empty_tuple)\n",
    "print(type(empty_tuple))"
   ]
  },
  {
   "cell_type": "markdown",
   "id": "13e2358e-e533-48b5-8449-2868c7c162d0",
   "metadata": {},
   "source": [
    "## Tuple containing integer value"
   ]
  },
  {
   "cell_type": "code",
   "execution_count": 8,
   "id": "7784b6ba-d881-479e-a2a2-b806a26c186a",
   "metadata": {},
   "outputs": [
    {
     "name": "stdout",
     "output_type": "stream",
     "text": [
      "34\n",
      "<class 'int'>\n"
     ]
    }
   ],
   "source": [
    "tuple1 = (34)\n",
    "print(tuple1)\n",
    "print(type(tuple1)) #int as it contains only integers"
   ]
  },
  {
   "cell_type": "markdown",
   "id": "8477fea0-baec-419f-b995-b188916183f7",
   "metadata": {},
   "source": [
    "## Generating a tuple using range function"
   ]
  },
  {
   "cell_type": "code",
   "execution_count": 5,
   "id": "2e5adb4f-b22e-4cc7-9c13-bdd15e7d60d3",
   "metadata": {},
   "outputs": [
    {
     "name": "stdout",
     "output_type": "stream",
     "text": [
      "(1, 3, 5, 7, 9, 11, 13, 15, 17, 19, 21, 23, 25, 27, 29, 31, 33, 35, 37, 39, 41, 43, 45, 47, 49, 51, 53, 55, 57, 59, 61, 63, 65, 67, 69, 71, 73, 75, 77, 79, 81, 83, 85, 87, 89, 91, 93, 95, 97, 99)\n",
      "<class 'tuple'>\n"
     ]
    }
   ],
   "source": [
    "Tuple = tuple(range(1, 101, 2)) #converting the range into tuple\n",
    "print(Tuple)\n",
    "print(type(Tuple))"
   ]
  },
  {
   "cell_type": "markdown",
   "id": "a182df2b-b7f9-4935-a9db-d3954583f8b2",
   "metadata": {},
   "source": [
    "## tuple concatenation"
   ]
  },
  {
   "cell_type": "code",
   "execution_count": 10,
   "id": "a472da3f-b883-4522-a669-ef7dac88da28",
   "metadata": {},
   "outputs": [
    {
     "name": "stdout",
     "output_type": "stream",
     "text": [
      "(10, 20, 30, 40, 50, 60, 70, 80)\n"
     ]
    }
   ],
   "source": [
    "t1 = (10,20,30,40)\n",
    "t2 = (50,60,70,80)\n",
    "t3 = t1 + t2\n",
    "print(t3)"
   ]
  },
  {
   "cell_type": "markdown",
   "id": "7e84d9f3-8c33-4746-a291-f924b5802190",
   "metadata": {},
   "source": [
    "## min function"
   ]
  },
  {
   "cell_type": "code",
   "execution_count": 13,
   "id": "30f8686e-fe39-4533-a355-e43d3eafda55",
   "metadata": {},
   "outputs": [
    {
     "name": "stdout",
     "output_type": "stream",
     "text": [
      "smallest number = 1\n"
     ]
    }
   ],
   "source": [
    "tuple = (23, 67, 87, 12, 3, 4, 1, 65)\n",
    "smallest = min(tuple)\n",
    "print(f'smallest number = {smallest}')"
   ]
  },
  {
   "cell_type": "markdown",
   "id": "9ec3ae42-04da-49c4-962b-ca8c8c72cd86",
   "metadata": {},
   "source": [
    "## max function"
   ]
  },
  {
   "cell_type": "code",
   "execution_count": 15,
   "id": "a9ba4136-16f5-47f8-b9e6-a6923086aff8",
   "metadata": {},
   "outputs": [
    {
     "name": "stdout",
     "output_type": "stream",
     "text": [
      "largest number = 87\n"
     ]
    }
   ],
   "source": [
    "tuple = (23, 67, 87, 12, 3, 4, 1, 65)\n",
    "maximum = max(tuple)\n",
    "print(f'largest number = {maximum}')"
   ]
  },
  {
   "cell_type": "markdown",
   "id": "9c0ac76e-8d29-46db-8c8d-4051707e2224",
   "metadata": {},
   "source": [
    "## sorted function"
   ]
  },
  {
   "cell_type": "code",
   "execution_count": 16,
   "id": "a45acd18-7c5b-4012-bbf3-c2a88c051117",
   "metadata": {},
   "outputs": [
    {
     "name": "stdout",
     "output_type": "stream",
     "text": [
      "sorted tuple = [1, 3, 4, 12, 23, 65, 67, 87]\n"
     ]
    }
   ],
   "source": [
    "tuple = (23, 67, 87, 12, 3, 4, 1, 65)\n",
    "sorted_tuple = sorted(tuple)\n",
    "print(f'sorted tuple = {sorted_tuple}')"
   ]
  }
 ],
 "metadata": {
  "kernelspec": {
   "display_name": "Python 3 (ipykernel)",
   "language": "python",
   "name": "python3"
  },
  "language_info": {
   "codemirror_mode": {
    "name": "ipython",
    "version": 3
   },
   "file_extension": ".py",
   "mimetype": "text/x-python",
   "name": "python",
   "nbconvert_exporter": "python",
   "pygments_lexer": "ipython3",
   "version": "3.9.2"
  }
 },
 "nbformat": 4,
 "nbformat_minor": 5
}
