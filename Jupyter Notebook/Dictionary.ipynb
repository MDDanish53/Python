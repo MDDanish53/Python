{
 "cells": [
  {
   "cell_type": "markdown",
   "id": "7fb33ce9-4286-4123-ac49-d91f874e8865",
   "metadata": {},
   "source": [
    "## Creating a dictionary"
   ]
  },
  {
   "cell_type": "code",
   "execution_count": 25,
   "id": "3cb649f9-ddd7-4659-987f-e2a608741e4c",
   "metadata": {},
   "outputs": [
    {
     "name": "stdout",
     "output_type": "stream",
     "text": [
      "{'key': 'value', 'Name': 'Mohammad', 'List': [1, 2, 3, 4], 5: 3}\n",
      "<class 'dict'>\n"
     ]
    }
   ],
   "source": [
    "Dict = {\n",
    "    \"key\": \"value\",\n",
    "    \"Name\": \"Mohammad\",\n",
    "    \"List\": [1, 2, 3, 4],\n",
    "    5: 3,\n",
    "}\n",
    "print(Dict)\n",
    "print(type(Dict))"
   ]
  },
  {
   "cell_type": "markdown",
   "id": "b9795fea-328f-4741-bf76-5bde6d751bf2",
   "metadata": {},
   "source": [
    "## Creating an empty dictionary"
   ]
  },
  {
   "cell_type": "code",
   "execution_count": 26,
   "id": "e9bb47b8-d2f2-4f6a-ae23-d2a908e38aea",
   "metadata": {},
   "outputs": [
    {
     "name": "stdout",
     "output_type": "stream",
     "text": [
      "{}\n",
      "<class 'dict'>\n"
     ]
    }
   ],
   "source": [
    "Dict = {}\n",
    "print(Dict)\n",
    "print(type(Dict))"
   ]
  },
  {
   "cell_type": "markdown",
   "id": "971e7630-c11d-451c-a226-e52156bdb905",
   "metadata": {},
   "source": [
    "## keys function"
   ]
  },
  {
   "cell_type": "code",
   "execution_count": 27,
   "id": "d4907555-145a-4b52-912c-ea36e703b78b",
   "metadata": {},
   "outputs": [
    {
     "name": "stdout",
     "output_type": "stream",
     "text": [
      "dict_keys(['key', 'Name', 'List', 5])\n"
     ]
    }
   ],
   "source": [
    "Dict = {\n",
    "    \"key\": \"value\",\n",
    "    \"Name\": \"Mohammad\",\n",
    "    \"List\": [1, 2, 3, 4],\n",
    "    5: 3,\n",
    "}\n",
    "print(Dict.keys())"
   ]
  },
  {
   "cell_type": "markdown",
   "id": "d9b36d64-00c0-4d97-b5e7-f15128974e4f",
   "metadata": {},
   "source": [
    "## values function"
   ]
  },
  {
   "cell_type": "code",
   "execution_count": 28,
   "id": "9883de8b-8678-4ba9-854e-40a45231f824",
   "metadata": {},
   "outputs": [
    {
     "name": "stdout",
     "output_type": "stream",
     "text": [
      "dict_values(['value', 'Mohammad', [1, 2, 3, 4], 3])\n"
     ]
    }
   ],
   "source": [
    "Dict = {\n",
    "    \"key\": \"value\",\n",
    "    \"Name\": \"Mohammad\",\n",
    "    \"List\": [1, 2, 3, 4],\n",
    "    5: 3,\n",
    "}\n",
    "print(Dict.values())"
   ]
  },
  {
   "cell_type": "markdown",
   "id": "7aaced75-8408-4a08-bf67-c037c0b600f3",
   "metadata": {},
   "source": [
    "## items function"
   ]
  },
  {
   "cell_type": "code",
   "execution_count": 29,
   "id": "a9ae771d-eea0-4a19-8cad-aae699460e51",
   "metadata": {},
   "outputs": [
    {
     "name": "stdout",
     "output_type": "stream",
     "text": [
      "dict_items([('key', 'value'), ('Name', 'Mohammad'), ('List', [1, 2, 3, 4]), (5, 3)])\n"
     ]
    }
   ],
   "source": [
    "Dict = {\n",
    "    \"key\": \"value\",\n",
    "    \"Name\": \"Mohammad\",\n",
    "    \"List\": [1, 2, 3, 4],\n",
    "    5: 3,\n",
    "}\n",
    "print(Dict.items())"
   ]
  },
  {
   "cell_type": "markdown",
   "id": "6e104c7f-faa5-4593-b040-dc39dfd04674",
   "metadata": {},
   "source": [
    "## accessing a particular key's value"
   ]
  },
  {
   "cell_type": "code",
   "execution_count": 30,
   "id": "543ed7c4-9758-4613-8eef-d7d10b0d5725",
   "metadata": {},
   "outputs": [
    {
     "name": "stdout",
     "output_type": "stream",
     "text": [
      "[1, 2, 3, 4]\n"
     ]
    }
   ],
   "source": [
    "Dict = {\n",
    "    \"key\": \"value\",\n",
    "    \"Name\": \"Mohammad\",\n",
    "    \"List\": [1, 2, 3, 4],\n",
    "    5: 3,\n",
    "}\n",
    "print(Dict[\"List\"])"
   ]
  },
  {
   "cell_type": "markdown",
   "id": "35472246-166e-42fb-a133-e9e49467ac28",
   "metadata": {},
   "source": [
    "## update function"
   ]
  },
  {
   "cell_type": "code",
   "execution_count": 32,
   "id": "6ccc0f79-b2a3-492a-84fb-3ad6fd5b5ad5",
   "metadata": {},
   "outputs": [
    {
     "name": "stdout",
     "output_type": "stream",
     "text": [
      "{'key': 'value', 'Name': 'Mohammad', 'List': [1, 2, 3, 4], 5: 3, 'surname': 'siddique'}\n"
     ]
    }
   ],
   "source": [
    "Dict1 = {\n",
    "    \"key\": \"value\",\n",
    "    \"Name\": \"Mohammad\",\n",
    "    \"List\": [1, 2, 3, 4],\n",
    "    5: 3,\n",
    "}\n",
    "Dict2 = {\n",
    "    \"surname\": \"siddique\",\n",
    "}\n",
    "Dict1.update(Dict2)\n",
    "print(Dict1)"
   ]
  },
  {
   "cell_type": "code",
   "execution_count": null,
   "id": "a5efd566-9cca-4704-8f35-ac4e622e4e29",
   "metadata": {},
   "outputs": [],
   "source": []
  }
 ],
 "metadata": {
  "kernelspec": {
   "display_name": "Python 3 (ipykernel)",
   "language": "python",
   "name": "python3"
  },
  "language_info": {
   "codemirror_mode": {
    "name": "ipython",
    "version": 3
   },
   "file_extension": ".py",
   "mimetype": "text/x-python",
   "name": "python",
   "nbconvert_exporter": "python",
   "pygments_lexer": "ipython3",
   "version": "3.9.2"
  }
 },
 "nbformat": 4,
 "nbformat_minor": 5
}
