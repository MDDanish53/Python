{
 "cells": [
  {
   "cell_type": "markdown",
   "id": "f0f0cb83-c64c-4633-8b38-2be19664acf5",
   "metadata": {},
   "source": [
    "## Creating a string"
   ]
  },
  {
   "cell_type": "code",
   "execution_count": 1,
   "id": "b799b6a1-3734-4810-be2d-790759f55a9e",
   "metadata": {},
   "outputs": [
    {
     "name": "stdout",
     "output_type": "stream",
     "text": [
      "Mohammad Danish\n",
      "<class 'str'>\n"
     ]
    }
   ],
   "source": [
    "str = \"Mohammad Danish\"\n",
    "print(str)\n",
    "print(type(str))"
   ]
  },
  {
   "cell_type": "markdown",
   "id": "e1640b7e-301c-4648-926b-f3149ecff38c",
   "metadata": {},
   "source": [
    "## String concatenation"
   ]
  },
  {
   "cell_type": "code",
   "execution_count": 3,
   "id": "c347fff2-0727-4f78-b5d6-c2e1567e0c98",
   "metadata": {},
   "outputs": [
    {
     "name": "stdout",
     "output_type": "stream",
     "text": [
      "Mohammad Danish Siddique\n"
     ]
    }
   ],
   "source": [
    "name = \"Mohammad Danish\"\n",
    "surname = \"Siddique\"\n",
    "concat = name + \" \" + surname\n",
    "print(concat)"
   ]
  },
  {
   "cell_type": "markdown",
   "id": "873da3dc-25ff-4bdb-b17b-31c071330949",
   "metadata": {},
   "source": [
    "## Upper Function "
   ]
  },
  {
   "cell_type": "code",
   "execution_count": 5,
   "id": "e46d9ff8-bbd0-482c-a9a5-aafc12353b95",
   "metadata": {},
   "outputs": [
    {
     "name": "stdout",
     "output_type": "stream",
     "text": [
      "MOHAMMAD DANISH\n"
     ]
    }
   ],
   "source": [
    "str = \"mohammad danish\"\n",
    "upper = str.upper()\n",
    "print(upper)"
   ]
  },
  {
   "cell_type": "markdown",
   "id": "4bfd8be1-4a65-4c6f-9d29-0ae88ead1c18",
   "metadata": {},
   "source": [
    "## String Slicing"
   ]
  },
  {
   "cell_type": "code",
   "execution_count": 11,
   "id": "44b46620-635d-4e98-99f6-2289b4d9a138",
   "metadata": {},
   "outputs": [
    {
     "name": "stdout",
     "output_type": "stream",
     "text": [
      "Mohammad\n"
     ]
    }
   ],
   "source": [
    "str = \"Mohammad Danish\"\n",
    "print(str[0:8])"
   ]
  },
  {
   "cell_type": "markdown",
   "id": "478089fd-8e2a-4697-9eac-e8d29b3f8e1e",
   "metadata": {},
   "source": [
    "## using steps in string slicing"
   ]
  },
  {
   "cell_type": "code",
   "execution_count": 12,
   "id": "2a5f2425-763e-4fd9-940d-7d0c63078756",
   "metadata": {},
   "outputs": [
    {
     "name": "stdout",
     "output_type": "stream",
     "text": [
      "Mhma a\n"
     ]
    }
   ],
   "source": [
    "str = \"Mohammad Danish\"\n",
    "print(str[0:11:2])"
   ]
  },
  {
   "cell_type": "markdown",
   "id": "9d859b70-8e0b-476c-a2b7-656861cf1200",
   "metadata": {},
   "source": [
    "## accessing the last element of string"
   ]
  },
  {
   "cell_type": "code",
   "execution_count": 14,
   "id": "81e56932-4118-482a-b928-462961313f40",
   "metadata": {},
   "outputs": [
    {
     "name": "stdout",
     "output_type": "stream",
     "text": [
      "h\n"
     ]
    }
   ],
   "source": [
    "name = \"Mohammad Danish\"\n",
    "print(str[-1])"
   ]
  },
  {
   "cell_type": "markdown",
   "id": "b90b2ebc-fd89-4840-811c-554570b175f8",
   "metadata": {},
   "source": [
    "## title function"
   ]
  },
  {
   "cell_type": "code",
   "execution_count": 15,
   "id": "57a19f40-e397-44f9-b9f1-682c8c2f0eca",
   "metadata": {},
   "outputs": [
    {
     "name": "stdout",
     "output_type": "stream",
     "text": [
      "Mohammad Danish\n"
     ]
    }
   ],
   "source": [
    "name = \"mohammad danish\"\n",
    "print(name.title())"
   ]
  },
  {
   "cell_type": "markdown",
   "id": "9b935b14-b1d2-4dfc-bb59-b811323cb2de",
   "metadata": {},
   "source": [
    "## count function"
   ]
  },
  {
   "cell_type": "code",
   "execution_count": 16,
   "id": "c0b1036e-abf0-401b-a8d4-30bde9f44ac0",
   "metadata": {},
   "outputs": [
    {
     "name": "stdout",
     "output_type": "stream",
     "text": [
      "2\n"
     ]
    }
   ],
   "source": [
    "name = \"Mohammad danish\"\n",
    "print(name.count(\"m\"))"
   ]
  },
  {
   "cell_type": "markdown",
   "id": "8e8b8fdb-10cd-4abd-9b7a-850ffebc7d8a",
   "metadata": {},
   "source": [
    "## find function"
   ]
  },
  {
   "cell_type": "code",
   "execution_count": 17,
   "id": "09f18b96-98d3-49cf-a0db-232568f6d3bb",
   "metadata": {},
   "outputs": [
    {
     "name": "stdout",
     "output_type": "stream",
     "text": [
      "4\n"
     ]
    }
   ],
   "source": [
    "name = \"Mohammad Danish\"\n",
    "print(name.find(\"m\"))"
   ]
  },
  {
   "cell_type": "code",
   "execution_count": 19,
   "id": "77d73488-78ac-4313-a501-f4a1bbd69346",
   "metadata": {},
   "outputs": [
    {
     "name": "stdout",
     "output_type": "stream",
     "text": [
      "34\n",
      "<class 'int'>\n"
     ]
    }
   ],
   "source": [
    "tuple1 = (34)\n",
    "print(tuple1)\n",
    "print(type(tuple1))"
   ]
  },
  {
   "cell_type": "code",
   "execution_count": null,
   "id": "cc736896-956a-413a-b348-88525875af23",
   "metadata": {},
   "outputs": [],
   "source": []
  }
 ],
 "metadata": {
  "kernelspec": {
   "display_name": "Python 3 (ipykernel)",
   "language": "python",
   "name": "python3"
  },
  "language_info": {
   "codemirror_mode": {
    "name": "ipython",
    "version": 3
   },
   "file_extension": ".py",
   "mimetype": "text/x-python",
   "name": "python",
   "nbconvert_exporter": "python",
   "pygments_lexer": "ipython3",
   "version": "3.9.2"
  }
 },
 "nbformat": 4,
 "nbformat_minor": 5
}
