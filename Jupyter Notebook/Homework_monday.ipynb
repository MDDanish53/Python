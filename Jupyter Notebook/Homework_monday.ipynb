{
 "cells": [
  {
   "cell_type": "markdown",
   "id": "30b05a81-d902-4cde-8cb1-a3881ef09046",
   "metadata": {},
   "source": [
    "## 1. Calculating the remainder"
   ]
  },
  {
   "cell_type": "code",
   "execution_count": 1,
   "id": "350bd8ee-c0a3-4530-a53b-3f8be28602aa",
   "metadata": {},
   "outputs": [
    {
     "name": "stdin",
     "output_type": "stream",
     "text": [
      "Enter a number =  89\n",
      "Enter another number =  3\n"
     ]
    },
    {
     "name": "stdout",
     "output_type": "stream",
     "text": [
      "remainder is = 2\n"
     ]
    }
   ],
   "source": [
    "user = int(input(\"Enter a number = \"))\n",
    "user2 = int(input(\"Enter another number = \"))\n",
    "remainder = user % user2\n",
    "print(f'remainder is = {remainder}')\n"
   ]
  },
  {
   "cell_type": "markdown",
   "id": "e24aa726-6591-4fc8-9abb-748036e15d17",
   "metadata": {},
   "source": [
    "## 2. Average of two numbers"
   ]
  },
  {
   "cell_type": "code",
   "execution_count": 2,
   "id": "00ef3b22-0be8-432f-99e9-1731b3606033",
   "metadata": {},
   "outputs": [
    {
     "name": "stdin",
     "output_type": "stream",
     "text": [
      "Enter first number =  56\n",
      "Enter second number =  23\n"
     ]
    },
    {
     "name": "stdout",
     "output_type": "stream",
     "text": [
      "Average is = 39.5\n"
     ]
    }
   ],
   "source": [
    "num1 = int(input(\"Enter first number = \"))\n",
    "num2 = int(input(\"Enter second number = \"))\n",
    "average = (num1+num2) / 2\n",
    "print(f\"Average is = {average}\")"
   ]
  },
  {
   "cell_type": "markdown",
   "id": "150206f6-f340-48af-b37a-169a23934d16",
   "metadata": {},
   "source": [
    "## 3. Average of three numbers"
   ]
  },
  {
   "cell_type": "code",
   "execution_count": 3,
   "id": "bca696ce-02d7-440a-b256-19190265f36d",
   "metadata": {},
   "outputs": [
    {
     "name": "stdin",
     "output_type": "stream",
     "text": [
      "Enter first number =  67\n",
      "Enter second number =  98\n",
      "Enter third number =  45\n"
     ]
    },
    {
     "name": "stdout",
     "output_type": "stream",
     "text": [
      "average is = 70.0\n"
     ]
    }
   ],
   "source": [
    "num1 = int(input(\"Enter first number = \"))\n",
    "num2 = int(input(\"Enter second number = \"))\n",
    "num3 = int(input(\"Enter third number = \"))\n",
    "average = (num1 + num2 + num3) / 3\n",
    "print(f'average is = {average}')"
   ]
  },
  {
   "cell_type": "markdown",
   "id": "46783870-4d07-4a0d-b018-f292657b1c8b",
   "metadata": {},
   "source": [
    "## 4. Square of number"
   ]
  },
  {
   "cell_type": "code",
   "execution_count": 4,
   "id": "370994c9-0ccd-4e38-bd49-d8f5ce5c3f65",
   "metadata": {},
   "outputs": [
    {
     "name": "stdin",
     "output_type": "stream",
     "text": [
      "Enter a number =  56\n"
     ]
    },
    {
     "name": "stdout",
     "output_type": "stream",
     "text": [
      "Square is = 3136\n"
     ]
    }
   ],
   "source": [
    "num = int(input(\"Enter a number = \"))\n",
    "square = num * num\n",
    "print(f\"Square is = {square}\")"
   ]
  },
  {
   "cell_type": "code",
   "execution_count": null,
   "id": "6441f09e-abc2-4429-9a8c-d57d620e109f",
   "metadata": {},
   "outputs": [],
   "source": []
  }
 ],
 "metadata": {
  "kernelspec": {
   "display_name": "Python 3 (ipykernel)",
   "language": "python",
   "name": "python3"
  },
  "language_info": {
   "codemirror_mode": {
    "name": "ipython",
    "version": 3
   },
   "file_extension": ".py",
   "mimetype": "text/x-python",
   "name": "python",
   "nbconvert_exporter": "python",
   "pygments_lexer": "ipython3",
   "version": "3.9.2"
  }
 },
 "nbformat": 4,
 "nbformat_minor": 5
}
