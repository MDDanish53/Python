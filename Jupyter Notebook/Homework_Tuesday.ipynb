{
 "cells": [
  {
   "cell_type": "markdown",
   "id": "f495f926-cd32-4ad6-ba46-df2ce2833f11",
   "metadata": {},
   "source": [
    "## 1. WAP to check given number is positive or negative"
   ]
  },
  {
   "cell_type": "code",
   "execution_count": 2,
   "id": "f401d3ff-c238-494a-a5dc-96914c821c0b",
   "metadata": {},
   "outputs": [
    {
     "name": "stdin",
     "output_type": "stream",
     "text": [
      "Enter a number =  -23\n"
     ]
    },
    {
     "name": "stdout",
     "output_type": "stream",
     "text": [
      "-23 is negative\n"
     ]
    }
   ],
   "source": [
    "num = int(input(\"Enter a number = \"))\n",
    "\n",
    "if num < 0:\n",
    "    print(f'{num} is negative')\n",
    "else:\n",
    "    print(f'{num} is positive')"
   ]
  },
  {
   "cell_type": "markdown",
   "id": "09a04e4b-1cb0-4e78-8cab-42c1e52dec25",
   "metadata": {},
   "source": [
    "## 2. WAP to check given number is even or odd"
   ]
  },
  {
   "cell_type": "code",
   "execution_count": 5,
   "id": "7c1f5030-2186-4e5c-b5fe-b80df094d119",
   "metadata": {},
   "outputs": [
    {
     "name": "stdin",
     "output_type": "stream",
     "text": [
      "Enter a number =  0\n"
     ]
    },
    {
     "name": "stdout",
     "output_type": "stream",
     "text": [
      "0 is an even number\n"
     ]
    }
   ],
   "source": [
    "num = int(input(\"Enter a number = \"))\n",
    "\n",
    "if num % 2 == 0:\n",
    "    print(f'{num} is an even number')\n",
    "else:\n",
    "    print(f'{num} is an odd number')"
   ]
  },
  {
   "cell_type": "markdown",
   "id": "492e417c-1ab6-43c0-be9d-e387b4ca0c16",
   "metadata": {},
   "source": [
    "## 3. WAP to check whether an year is a leap year or not"
   ]
  },
  {
   "cell_type": "code",
   "execution_count": 15,
   "id": "45b03e90-6f8e-4e95-9937-d45b253b914c",
   "metadata": {},
   "outputs": [
    {
     "name": "stdin",
     "output_type": "stream",
     "text": [
      "Enter the year =  2104\n"
     ]
    },
    {
     "name": "stdout",
     "output_type": "stream",
     "text": [
      "2104 is a leap year as it has 366 days\n"
     ]
    }
   ],
   "source": [
    "year = int(input(\"Enter the year = \"))\n",
    "\n",
    "# leap years are divisible by 4\n",
    "if year % 4 == 0:\n",
    "    print(f'{year} is a leap year as it has 366 days')\n",
    "else:\n",
    "    print(f'{year} is not a leap year as it has 365 days')"
   ]
  },
  {
   "cell_type": "markdown",
   "id": "c36c88a9-7639-4096-9adf-8e3819f71771",
   "metadata": {},
   "source": [
    "## 4. WAP to check whether a person is a senior citizen or not"
   ]
  },
  {
   "cell_type": "code",
   "execution_count": 17,
   "id": "7209c73d-837f-45d4-94ea-4657e0cee9d6",
   "metadata": {},
   "outputs": [
    {
     "name": "stdin",
     "output_type": "stream",
     "text": [
      "Enter your age =  34\n"
     ]
    },
    {
     "name": "stdout",
     "output_type": "stream",
     "text": [
      "You are not a senior citizen\n"
     ]
    }
   ],
   "source": [
    "age = int(input(\"Enter your age = \"))\n",
    "\n",
    "if age >= 60:\n",
    "    print(\"You are a senior citizen\")\n",
    "else:\n",
    "    print(\"You are not a senior citizen\")"
   ]
  },
  {
   "cell_type": "markdown",
   "id": "d2f59237-2dcc-4281-99a6-e83faf758071",
   "metadata": {},
   "source": [
    "## 5. WAP to display the age of the youngest person out of 4 person "
   ]
  },
  {
   "cell_type": "code",
   "execution_count": 21,
   "id": "de265946-2e5b-472a-a6a8-8da53521db4b",
   "metadata": {},
   "outputs": [
    {
     "name": "stdin",
     "output_type": "stream",
     "text": [
      "First person enter your age =  45\n",
      "Second person enter your age =  65\n",
      "Third person enter your age =  90\n",
      "Fourth person enter your age =  35\n"
     ]
    },
    {
     "name": "stdout",
     "output_type": "stream",
     "text": [
      "person with age 35 is the youngest amongst all\n"
     ]
    }
   ],
   "source": [
    "age1 = int(input(\"First person enter your age = \"))\n",
    "age2 = int(input(\"Second person enter your age = \"))\n",
    "age3 = int(input(\"Third person enter your age = \"))\n",
    "age4 = int(input(\"Fourth person enter your age = \"))\n",
    "\n",
    "if age1 < age2 and age1 < age3 and age1 < age4:\n",
    "    print(f'person with age {age1} is the youngest amongst all')\n",
    "elif age2 < age1 and age2 < age3 and age2 < age4:\n",
    "    print(f'person with age {age2} is the youngest amongst all')\n",
    "elif age3 < age1 and age3 < age2 and age3 < age4:\n",
    "    print(f'person with age {age3} is the youngest amongst all')\n",
    "else:\n",
    "    print(f'person with age {age4} is the youngest amongst all')"
   ]
  },
  {
   "cell_type": "markdown",
   "id": "8f1dd334-da68-4842-a573-df9da04109f0",
   "metadata": {},
   "source": [
    "## 6. WAP to check whether a number is prime or not"
   ]
  },
  {
   "cell_type": "code",
   "execution_count": null,
   "id": "254aaae9-90c1-4ee5-ac68-6a2f7088dc03",
   "metadata": {},
   "outputs": [],
   "source": []
  },
  {
   "cell_type": "code",
   "execution_count": null,
   "id": "80156c9a-2a16-4400-b361-a0122f2050ad",
   "metadata": {},
   "outputs": [],
   "source": []
  }
 ],
 "metadata": {
  "kernelspec": {
   "display_name": "Python 3 (ipykernel)",
   "language": "python",
   "name": "python3"
  },
  "language_info": {
   "codemirror_mode": {
    "name": "ipython",
    "version": 3
   },
   "file_extension": ".py",
   "mimetype": "text/x-python",
   "name": "python",
   "nbconvert_exporter": "python",
   "pygments_lexer": "ipython3",
   "version": "3.9.2"
  }
 },
 "nbformat": 4,
 "nbformat_minor": 5
}
