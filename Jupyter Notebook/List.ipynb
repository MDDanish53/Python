{
 "cells": [
  {
   "cell_type": "markdown",
   "id": "c3f92c34-415a-418e-8df9-cab30e4f49f4",
   "metadata": {},
   "source": [
    "## Creating a list"
   ]
  },
  {
   "cell_type": "code",
   "execution_count": 1,
   "id": "65c8e2fb-5053-42e6-a7e5-e6a1d699abd4",
   "metadata": {},
   "outputs": [
    {
     "name": "stdout",
     "output_type": "stream",
     "text": [
      "<class 'list'>\n"
     ]
    }
   ],
   "source": [
    "a = [\"Danish\", 70, 70.2]\n",
    "print(type(a))"
   ]
  },
  {
   "cell_type": "markdown",
   "id": "55513b3f-8d59-46b8-954b-f01e29bb9ae6",
   "metadata": {},
   "source": [
    "## Creating an empty list"
   ]
  },
  {
   "cell_type": "code",
   "execution_count": 2,
   "id": "ec4352dd-72b2-435d-a140-36ce52a036e3",
   "metadata": {},
   "outputs": [
    {
     "name": "stdout",
     "output_type": "stream",
     "text": [
      "[]\n",
      "<class 'list'>\n"
     ]
    }
   ],
   "source": [
    "list = []\n",
    "print(list)\n",
    "print(type(list))"
   ]
  },
  {
   "cell_type": "markdown",
   "id": "3e698cf1-94f8-4b63-bfd8-fd2decffdbfa",
   "metadata": {},
   "source": [
    "## creating list with values of different data types"
   ]
  },
  {
   "cell_type": "code",
   "execution_count": 3,
   "id": "0c8d91a4-375c-420f-92ac-12c68b315a21",
   "metadata": {},
   "outputs": [
    {
     "name": "stdout",
     "output_type": "stream",
     "text": [
      "['Mohammad', 45, True, None, '56']\n",
      "<class 'list'>\n"
     ]
    }
   ],
   "source": [
    "List = [\"Mohammad\", 45, True, None, \"56\"]\n",
    "print(List)\n",
    "print(type(List))"
   ]
  },
  {
   "cell_type": "markdown",
   "id": "26bc79f3-cdc1-4dec-ba29-ca9d68229ba4",
   "metadata": {},
   "source": [
    "## accessing the last element of list"
   ]
  },
  {
   "cell_type": "code",
   "execution_count": 4,
   "id": "e5046917-c177-4d5c-b6c1-7e93a9c17805",
   "metadata": {},
   "outputs": [
    {
     "name": "stdout",
     "output_type": "stream",
     "text": [
      "56\n"
     ]
    }
   ],
   "source": [
    "list = [\"Mohammad\", 45, True, None, \"56\"]\n",
    "print(List[-1])"
   ]
  },
  {
   "cell_type": "markdown",
   "id": "0c800eac-62af-4d57-9e55-e626900ddf7e",
   "metadata": {},
   "source": [
    "## List slicing"
   ]
  },
  {
   "cell_type": "code",
   "execution_count": 5,
   "id": "0173d820-a036-47bc-a70b-b3abec81733b",
   "metadata": {},
   "outputs": [
    {
     "name": "stdout",
     "output_type": "stream",
     "text": [
      "['Mohammad', 45, True, None]\n"
     ]
    }
   ],
   "source": [
    "list = [\"Mohammad\", 45, True, None, \"56\"]\n",
    "print(List[0:4])"
   ]
  },
  {
   "cell_type": "markdown",
   "id": "4e7b67e8-3f72-472a-aa96-a336b492941a",
   "metadata": {},
   "source": [
    "## Reverse method"
   ]
  },
  {
   "cell_type": "code",
   "execution_count": 7,
   "id": "52955c15-21a5-4236-8305-19e9a3d46b7e",
   "metadata": {},
   "outputs": [
    {
     "name": "stdout",
     "output_type": "stream",
     "text": [
      "['56', None, True, 45, 'Mohammad']\n"
     ]
    }
   ],
   "source": [
    "list = [\"Mohammad\", 45, True, None, \"56\"]\n",
    "list.reverse()\n",
    "print(list)"
   ]
  },
  {
   "cell_type": "markdown",
   "id": "998c8344-90f9-42ba-9a4f-3635da25a71d",
   "metadata": {},
   "source": [
    "## sort method"
   ]
  },
  {
   "cell_type": "code",
   "execution_count": 8,
   "id": "d099c987-4eba-43bc-835a-8382efd52a67",
   "metadata": {},
   "outputs": [
    {
     "name": "stdout",
     "output_type": "stream",
     "text": [
      "[37, 38, 43, 56, 61, 65, 89, 92]\n"
     ]
    }
   ],
   "source": [
    "List = [65, 89, 43, 56, 37, 92, 38, 61]\n",
    "List.sort()\n",
    "print(List)"
   ]
  },
  {
   "cell_type": "markdown",
   "id": "f7f0a745-61d6-4794-8b1c-0242ad7a0a45",
   "metadata": {},
   "source": [
    "## append method - adds element at last"
   ]
  },
  {
   "cell_type": "code",
   "execution_count": 14,
   "id": "4211ce48-7882-46fa-b1ad-a9774ef8df72",
   "metadata": {},
   "outputs": [
    {
     "name": "stdout",
     "output_type": "stream",
     "text": [
      "['Mohammad', 'Danish', 'Imtiyaz', ['Siddique', 'is', 'working', 'with', 'python']]\n"
     ]
    }
   ],
   "source": [
    "List = [\"Mohammad\", \"Danish\", \"Imtiyaz\"]\n",
    "List2 = [\"Siddique\", \"is\", \"working\", \"with\", \"python\"]\n",
    "List.append(List2)\n",
    "print(List)"
   ]
  },
  {
   "cell_type": "markdown",
   "id": "52bc7922-773c-46a7-a8f2-83b568238816",
   "metadata": {},
   "source": [
    "## insert method - adds elements at a given index"
   ]
  },
  {
   "cell_type": "code",
   "execution_count": 16,
   "id": "366c5302-83de-41a8-8dc8-2ce07fe22456",
   "metadata": {},
   "outputs": [
    {
     "name": "stdout",
     "output_type": "stream",
     "text": [
      "[2, 4, 11, 5, 6, 7, 8, 9, 7]\n"
     ]
    }
   ],
   "source": [
    "List = [2, 4, 5, 6, 7, 8, 9, 7]\n",
    "List.insert(2, 11) #2=index no. 11=value\n",
    "print(List)"
   ]
  },
  {
   "cell_type": "markdown",
   "id": "6dca5ee4-b69b-4a6c-8ab8-53adbe49837f",
   "metadata": {},
   "source": [
    "## pop method - removes element from last"
   ]
  },
  {
   "cell_type": "code",
   "execution_count": 18,
   "id": "6abf8d5b-c854-4ae7-b8a1-715be8c9d1ff",
   "metadata": {},
   "outputs": [
    {
     "name": "stdout",
     "output_type": "stream",
     "text": [
      "[1, 2, 3, 4, 5, 6, 7]\n"
     ]
    }
   ],
   "source": [
    "List = [1, 2, 3, 4, 5, 6, 7, 8]\n",
    "List.pop()\n",
    "print(List)"
   ]
  },
  {
   "cell_type": "markdown",
   "id": "949023f7-c263-410d-8071-d89377c31d05",
   "metadata": {},
   "source": [
    "## remove method - removes the givent element value"
   ]
  },
  {
   "cell_type": "code",
   "execution_count": 19,
   "id": "221736cc-5c5c-4eb9-a162-9adbb7ba8ed9",
   "metadata": {},
   "outputs": [
    {
     "name": "stdout",
     "output_type": "stream",
     "text": [
      "[1, 2, 4, 5, 6, 7, 8]\n"
     ]
    }
   ],
   "source": [
    "List = [1, 2, 3, 4, 5, 6, 7, 8]\n",
    "List.remove(3) #3 = value\n",
    "print(List)"
   ]
  },
  {
   "cell_type": "markdown",
   "id": "0d04c679-4d04-4d18-b73d-1aa10bf3b0e6",
   "metadata": {},
   "source": [
    "## clear method - empties the list"
   ]
  },
  {
   "cell_type": "code",
   "execution_count": 20,
   "id": "e900633c-de42-4ce2-a8b0-bcf0846eb6ac",
   "metadata": {},
   "outputs": [
    {
     "name": "stdout",
     "output_type": "stream",
     "text": [
      "[]\n"
     ]
    }
   ],
   "source": [
    "List = [\"Mohammad\", \"Danish\"]\n",
    "List.clear()\n",
    "print(List)"
   ]
  },
  {
   "cell_type": "markdown",
   "id": "df57d018-6e87-47e0-9aa0-368e7a678cbf",
   "metadata": {},
   "source": [
    "## Extend Method"
   ]
  },
  {
   "cell_type": "code",
   "execution_count": 24,
   "id": "dd6f6101-dad1-492a-a8c1-be6d90935227",
   "metadata": {},
   "outputs": [
    {
     "name": "stdout",
     "output_type": "stream",
     "text": [
      "['Mohammad', 'Danish']\n"
     ]
    }
   ],
   "source": [
    "List1 = [\"Mohammad\"]\n",
    "List2 = [\"Danish\"]\n",
    "List1.extend(List2)\n",
    "print(List1)"
   ]
  },
  {
   "cell_type": "code",
   "execution_count": null,
   "id": "c8f485d6-5e2b-4fd9-8c61-403193192791",
   "metadata": {},
   "outputs": [],
   "source": []
  }
 ],
 "metadata": {
  "kernelspec": {
   "display_name": "Python 3 (ipykernel)",
   "language": "python",
   "name": "python3"
  },
  "language_info": {
   "codemirror_mode": {
    "name": "ipython",
    "version": 3
   },
   "file_extension": ".py",
   "mimetype": "text/x-python",
   "name": "python",
   "nbconvert_exporter": "python",
   "pygments_lexer": "ipython3",
   "version": "3.9.2"
  }
 },
 "nbformat": 4,
 "nbformat_minor": 5
}
