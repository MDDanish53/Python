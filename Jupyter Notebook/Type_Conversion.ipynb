{
 "cells": [
  {
   "cell_type": "markdown",
   "id": "73cf58a0-5abe-4c28-90b2-41039661c7da",
   "metadata": {},
   "source": [
    "## Converting List into tuple"
   ]
  },
  {
   "cell_type": "code",
   "execution_count": 2,
   "id": "e0017279-6a98-4eaf-97dd-77240b2126f6",
   "metadata": {},
   "outputs": [
    {
     "name": "stdout",
     "output_type": "stream",
     "text": [
      "[1, 2, 3, 'Ready', 'Steady', 'Go']\n",
      "<class 'list'>\n",
      "(1, 2, 3, 'Ready', 'Steady', 'Go')\n",
      "<class 'tuple'>\n"
     ]
    }
   ],
   "source": [
    "List = [1, 2, 3, \"Ready\", \"Steady\", \"Go\"]\n",
    "print(List)\n",
    "print(type(List))\n",
    "Tuple = tuple(List)\n",
    "print(Tuple)\n",
    "print(type(Tuple))"
   ]
  },
  {
   "cell_type": "markdown",
   "id": "52660447-04b8-4d25-9db2-8ad3fd942875",
   "metadata": {},
   "source": [
    "## Converting List into Set"
   ]
  },
  {
   "cell_type": "code",
   "execution_count": 3,
   "id": "3a9a81fb-f0dc-4fec-a086-e33d3347d019",
   "metadata": {},
   "outputs": [
    {
     "name": "stdout",
     "output_type": "stream",
     "text": [
      "[1, 2, 3, 'Ready', 'Steady', 'Go']\n",
      "<class 'list'>\n",
      "{1, 2, 3, 'Steady', 'Ready', 'Go'}\n",
      "<class 'set'>\n"
     ]
    }
   ],
   "source": [
    "List = [1, 2, 3, \"Ready\", \"Steady\", \"Go\"]\n",
    "print(List)\n",
    "print(type(List))\n",
    "Set = set(List)\n",
    "print(Set)\n",
    "print(type(Set))"
   ]
  },
  {
   "cell_type": "code",
   "execution_count": null,
   "id": "1b65ca94-0437-4ce3-9caa-a308361df11a",
   "metadata": {},
   "outputs": [],
   "source": []
  }
 ],
 "metadata": {
  "kernelspec": {
   "display_name": "Python 3 (ipykernel)",
   "language": "python",
   "name": "python3"
  },
  "language_info": {
   "codemirror_mode": {
    "name": "ipython",
    "version": 3
   },
   "file_extension": ".py",
   "mimetype": "text/x-python",
   "name": "python",
   "nbconvert_exporter": "python",
   "pygments_lexer": "ipython3",
   "version": "3.9.2"
  }
 },
 "nbformat": 4,
 "nbformat_minor": 5
}
