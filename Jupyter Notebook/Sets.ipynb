{
 "cells": [
  {
   "cell_type": "markdown",
   "id": "31cf5013-dd32-410e-a006-150dfb37ab18",
   "metadata": {},
   "source": [
    "## Creating a set"
   ]
  },
  {
   "cell_type": "code",
   "execution_count": 1,
   "id": "47f76ce9-7945-4452-8d73-f1063383de73",
   "metadata": {},
   "outputs": [
    {
     "name": "stdout",
     "output_type": "stream",
     "text": [
      "{1, 2, 3}\n",
      "<class 'set'>\n"
     ]
    }
   ],
   "source": [
    "Set = {1, 2, 3}\n",
    "print(Set)\n",
    "print(type(Set))"
   ]
  },
  {
   "cell_type": "markdown",
   "id": "89d2dc0b-59c2-4c3e-a98d-d45f86580532",
   "metadata": {},
   "source": [
    "## Creating an empty set (type = dictionary)"
   ]
  },
  {
   "cell_type": "code",
   "execution_count": 3,
   "id": "c0daa7ec-5fcc-4773-ae8a-db3feb8465b9",
   "metadata": {},
   "outputs": [
    {
     "name": "stdout",
     "output_type": "stream",
     "text": [
      "{}\n",
      "<class 'dict'>\n"
     ]
    }
   ],
   "source": [
    "Set = {}\n",
    "print(Set)\n",
    "print(type(Set)) #dictionary"
   ]
  },
  {
   "cell_type": "markdown",
   "id": "80d95f4a-3bee-4c62-9654-93e21d501f1e",
   "metadata": {},
   "source": [
    "## Creating an empty set (type = set)"
   ]
  },
  {
   "cell_type": "code",
   "execution_count": 4,
   "id": "977ad35a-5b6b-4a73-a073-45ee069392f5",
   "metadata": {},
   "outputs": [
    {
     "name": "stdout",
     "output_type": "stream",
     "text": [
      "set()\n",
      "<class 'set'>\n"
     ]
    }
   ],
   "source": [
    "Set = set()\n",
    "print(Set)\n",
    "print(type(Set))"
   ]
  },
  {
   "cell_type": "markdown",
   "id": "58155bda-872c-434e-867c-4b6688f631d1",
   "metadata": {},
   "source": [
    "## Creating a set using range function"
   ]
  },
  {
   "cell_type": "code",
   "execution_count": 5,
   "id": "a03d3862-9f9a-4650-b2c4-33a380d14286",
   "metadata": {},
   "outputs": [
    {
     "name": "stdout",
     "output_type": "stream",
     "text": [
      "{1, 2, 3, 4, 5, 6, 7, 8}\n",
      "<class 'set'>\n"
     ]
    }
   ],
   "source": [
    "Set = set(range(1, 9, 1))\n",
    "print(Set)\n",
    "print(type(Set))"
   ]
  },
  {
   "cell_type": "markdown",
   "id": "b8a92c66-94e1-4a35-a6f3-fdf7362e8188",
   "metadata": {},
   "source": [
    "## add function"
   ]
  },
  {
   "cell_type": "code",
   "execution_count": 9,
   "id": "63ac9702-3866-4bc4-b933-6576a459a75b",
   "metadata": {},
   "outputs": [
    {
     "name": "stdout",
     "output_type": "stream",
     "text": [
      "{1, 2, 3, 5, 6, 7}\n",
      "{1, 2, 3, 5, 6, 7, ('Mohammad', 'Danish')}\n"
     ]
    }
   ],
   "source": [
    "Set = {1, 2, 6, 5, 7}\n",
    "Set.add(3)\n",
    "print(Set)\n",
    "Set.add((\"Mohammad\", \"Danish\"))\n",
    "print(Set)"
   ]
  },
  {
   "cell_type": "markdown",
   "id": "0c8c0887-1900-4f79-88ae-bab963a95dd4",
   "metadata": {},
   "source": [
    "## len function"
   ]
  },
  {
   "cell_type": "code",
   "execution_count": 20,
   "id": "9cbf863f-6b65-4c96-83e2-5cce596efd88",
   "metadata": {},
   "outputs": [
    {
     "name": "stdout",
     "output_type": "stream",
     "text": [
      "7\n"
     ]
    }
   ],
   "source": [
    "Set = { 45, True, None, 67, 43, 89, 33}\n",
    "print(len(Set))\n",
    "                                              "
   ]
  },
  {
   "cell_type": "markdown",
   "id": "de3ada3c-5647-491b-8209-98140272173e",
   "metadata": {},
   "source": [
    "## pop function"
   ]
  },
  {
   "cell_type": "code",
   "execution_count": 22,
   "id": "d5935bfb-7468-4540-abbb-da4207262de4",
   "metadata": {},
   "outputs": [
    {
     "name": "stdout",
     "output_type": "stream",
     "text": [
      "{34, 67, 56, 90, 45, 78}\n"
     ]
    }
   ],
   "source": [
    "set = {34, 45, 56, 67, 78, 90, 1}\n",
    "set.pop()\n",
    "print(set)"
   ]
  },
  {
   "cell_type": "markdown",
   "id": "794fd79f-77d5-41bf-9598-c55215c45d39",
   "metadata": {},
   "source": [
    "## remove function"
   ]
  },
  {
   "cell_type": "code",
   "execution_count": 24,
   "id": "22e38586-9102-4e09-94b5-b433e92f10f6",
   "metadata": {},
   "outputs": [
    {
     "name": "stdout",
     "output_type": "stream",
     "text": [
      "{32, 34, 98, 84, 37}\n"
     ]
    }
   ],
   "source": [
    "Set = {34, 32, 74, 84, 37, 98}\n",
    "Set.remove(74) #pass the value\n",
    "print(Set)"
   ]
  },
  {
   "cell_type": "code",
   "execution_count": null,
   "id": "69113157-7c2a-48b1-bee5-d44895c9537d",
   "metadata": {},
   "outputs": [],
   "source": []
  }
 ],
 "metadata": {
  "kernelspec": {
   "display_name": "Python 3 (ipykernel)",
   "language": "python",
   "name": "python3"
  },
  "language_info": {
   "codemirror_mode": {
    "name": "ipython",
    "version": 3
   },
   "file_extension": ".py",
   "mimetype": "text/x-python",
   "name": "python",
   "nbconvert_exporter": "python",
   "pygments_lexer": "ipython3",
   "version": "3.9.2"
  }
 },
 "nbformat": 4,
 "nbformat_minor": 5
}
