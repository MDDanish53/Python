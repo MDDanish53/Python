{
 "cells": [
  {
   "cell_type": "markdown",
   "id": "9f21a0fc-f3e3-442f-b849-e7e87455ae36",
   "metadata": {},
   "source": [
    "## if statement"
   ]
  },
  {
   "cell_type": "markdown",
   "id": "2cb33fba-9b84-4e8d-bc37-7b823bc5c5bd",
   "metadata": {},
   "source": [
    "## 1. Biggest number from two numbers"
   ]
  },
  {
   "cell_type": "code",
   "execution_count": 2,
   "id": "b427dd0e-06e3-4aa2-811b-b60fa8254471",
   "metadata": {},
   "outputs": [
    {
     "name": "stdin",
     "output_type": "stream",
     "text": [
      "Enter first number =  456\n",
      "Enter second number =  674\n"
     ]
    },
    {
     "name": "stdout",
     "output_type": "stream",
     "text": [
      "674 is the greatest number\n"
     ]
    }
   ],
   "source": [
    "num1 = int(input(\"Enter first number = \"))\n",
    "num2 = int(input(\"Enter second number = \"))\n",
    "\n",
    "if num1 > num2:\n",
    "    print(f\"{num1} is the greater number\")\n",
    "else:\n",
    "    print(f\"{num2} is the greatest number\")"
   ]
  },
  {
   "cell_type": "markdown",
   "id": "7fdf5058-9a1c-485d-9dca-1eb1ea2a5a39",
   "metadata": {},
   "source": [
    "## 2. Check age to cast vote"
   ]
  },
  {
   "cell_type": "code",
   "execution_count": 4,
   "id": "7157205e-e52b-47b3-9805-b565b50be8a7",
   "metadata": {},
   "outputs": [
    {
     "name": "stdin",
     "output_type": "stream",
     "text": [
      "Enter your age =  4\n"
     ]
    },
    {
     "name": "stdout",
     "output_type": "stream",
     "text": [
      "Sorry to say that but you cannot vote.\n"
     ]
    }
   ],
   "source": [
    "age = int(input(\"Enter your age = \"))\n",
    "\n",
    "if age >= 18:\n",
    "    print(\"Congratulations! you can vote.\")\n",
    "else:\n",
    "    print(\"Sorry to say that, but you cannot vote.\")"
   ]
  },
  {
   "cell_type": "markdown",
   "id": "f30c7092-b777-44d2-b2cc-27b9ef03c167",
   "metadata": {},
   "source": [
    "## 3. Checking the temperature"
   ]
  },
  {
   "cell_type": "code",
   "execution_count": 6,
   "id": "7f507ff6-86d4-44ec-91f9-a042a05bc959",
   "metadata": {},
   "outputs": [
    {
     "name": "stdin",
     "output_type": "stream",
     "text": [
      "Enter the temperature in degrees =  12\n"
     ]
    },
    {
     "name": "stdout",
     "output_type": "stream",
     "text": [
      "Its cold outside\n"
     ]
    }
   ],
   "source": [
    "temp = int(input(\"Enter the temperature in degrees = \"))\n",
    "\n",
    "if temp > 30:\n",
    "    print(\"Its hot outside\")\n",
    "else:\n",
    "    print(\"Its cold outside\")"
   ]
  },
  {
   "cell_type": "markdown",
   "id": "94f6d4dc-e959-4d01-89e2-fba0dd16921e",
   "metadata": {},
   "source": [
    "## 4. Check number is divisible by 7 or not"
   ]
  },
  {
   "cell_type": "code",
   "execution_count": 8,
   "id": "f17bb92a-5143-465c-8393-5fcb9de2ad78",
   "metadata": {},
   "outputs": [
    {
     "name": "stdin",
     "output_type": "stream",
     "text": [
      "Enter a number =  49\n"
     ]
    },
    {
     "name": "stdout",
     "output_type": "stream",
     "text": [
      "49 is divisible by 7\n"
     ]
    }
   ],
   "source": [
    "num = int(input(\"Enter a number = \"))\n",
    "\n",
    "if num % 7 == 0:\n",
    "    print(f'{num} is divisible by 7')\n",
    "else:\n",
    "    print(f'{num} is not divisible by 7')"
   ]
  },
  {
   "cell_type": "markdown",
   "id": "22a9e16f-0a04-4842-8611-ff432e486f96",
   "metadata": {},
   "source": [
    "## 5. Check if number is positive or negative"
   ]
  },
  {
   "cell_type": "code",
   "execution_count": 11,
   "id": "9f071e0c-58aa-44eb-97ed-3f99ed21be1f",
   "metadata": {},
   "outputs": [
    {
     "name": "stdin",
     "output_type": "stream",
     "text": [
      "Enter a number =  -34\n"
     ]
    },
    {
     "name": "stdout",
     "output_type": "stream",
     "text": [
      "-34 is negative\n"
     ]
    }
   ],
   "source": [
    "num = int(input(\"Enter a number = \"))\n",
    "\n",
    "if num < 0:\n",
    "    print(f'{num} is negative number')\n",
    "else:\n",
    "    print(f'{num} is positive number')"
   ]
  },
  {
   "cell_type": "code",
   "execution_count": null,
   "id": "6f34efc5-1f20-4244-b435-922148f42173",
   "metadata": {},
   "outputs": [],
   "source": []
  }
 ],
 "metadata": {
  "kernelspec": {
   "display_name": "Python 3 (ipykernel)",
   "language": "python",
   "name": "python3"
  },
  "language_info": {
   "codemirror_mode": {
    "name": "ipython",
    "version": 3
   },
   "file_extension": ".py",
   "mimetype": "text/x-python",
   "name": "python",
   "nbconvert_exporter": "python",
   "pygments_lexer": "ipython3",
   "version": "3.9.2"
  }
 },
 "nbformat": 4,
 "nbformat_minor": 5
}
