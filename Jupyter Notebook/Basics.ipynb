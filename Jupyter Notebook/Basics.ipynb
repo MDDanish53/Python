{
 "cells": [
  {
   "cell_type": "markdown",
   "id": "2a9b74d8-4f13-4abc-85d4-25fcab43831a",
   "metadata": {},
   "source": [
    "## Importing Keyword"
   ]
  },
  {
   "cell_type": "code",
   "execution_count": 1,
   "id": "1a6b5511-9b1b-4c4a-9272-433824480c78",
   "metadata": {},
   "outputs": [
    {
     "name": "stdout",
     "output_type": "stream",
     "text": [
      "['False', 'None', 'True', '__peg_parser__', 'and', 'as', 'assert', 'async', 'await', 'break', 'class', 'continue', 'def', 'del', 'elif', 'else', 'except', 'finally', 'for', 'from', 'global', 'if', 'import', 'in', 'is', 'lambda', 'nonlocal', 'not', 'or', 'pass', 'raise', 'return', 'try', 'while', 'with', 'yield']\n",
      "36\n"
     ]
    }
   ],
   "source": [
    "import keyword\n",
    "print(keyword.kwlist)\n",
    "print(len(keyword.kwlist))"
   ]
  },
  {
   "cell_type": "markdown",
   "id": "076f3b70-8cc4-4003-ae7c-b8da3c9524f5",
   "metadata": {},
   "source": [
    "## float and int data types"
   ]
  },
  {
   "cell_type": "code",
   "execution_count": 2,
   "id": "59d475c8-a1cc-4acf-a8f9-828c0c5dd045",
   "metadata": {},
   "outputs": [
    {
     "name": "stdout",
     "output_type": "stream",
     "text": [
      "20 <class 'int'>\n",
      "87.54 <class 'float'>\n"
     ]
    }
   ],
   "source": [
    "a = 20\n",
    "b = 87.54\n",
    "print(a, type(a))\n",
    "print(b, type(b))"
   ]
  },
  {
   "cell_type": "markdown",
   "id": "4d77c4fd-8f7e-4adb-b420-50b96e6ab4d1",
   "metadata": {},
   "source": [
    "## Taking input from user and displaying it"
   ]
  },
  {
   "cell_type": "code",
   "execution_count": 3,
   "id": "d59751f1-86f2-41e5-9ef3-f32e8268a872",
   "metadata": {},
   "outputs": [
    {
     "name": "stdin",
     "output_type": "stream",
     "text": [
      "Enter yor name =  Mohammad Danish\n"
     ]
    },
    {
     "name": "stdout",
     "output_type": "stream",
     "text": [
      "Your name is Mohammad Danish\n"
     ]
    }
   ],
   "source": [
    "name = input(\"Enter yor name = \")\n",
    "print(f\"Your name is {name}\") #Mohammad Danish"
   ]
  },
  {
   "cell_type": "markdown",
   "id": "019d7b78-4d4e-4c17-a642-e4dd6671071c",
   "metadata": {},
   "source": [
    "## Taking input from user and converting it into integer type"
   ]
  },
  {
   "cell_type": "code",
   "execution_count": 4,
   "id": "dc26d2b7-d182-4d70-b4e0-6821c25e7279",
   "metadata": {},
   "outputs": [
    {
     "name": "stdin",
     "output_type": "stream",
     "text": [
      "Enter your age =  34\n"
     ]
    },
    {
     "name": "stdout",
     "output_type": "stream",
     "text": [
      "34\n",
      "<class 'int'>\n"
     ]
    }
   ],
   "source": [
    "a = int(input(\"Enter your age = \")) #you cannot write text here\n",
    "print(a)\n",
    "print(type(a))"
   ]
  },
  {
   "cell_type": "markdown",
   "id": "759977cf-0c27-4c94-8bb7-18b9d0ca4719",
   "metadata": {},
   "source": [
    "## Adding two numbers taken from user"
   ]
  },
  {
   "cell_type": "code",
   "execution_count": 5,
   "id": "38c31c83-0adf-4414-9175-a2a7e04d3f46",
   "metadata": {},
   "outputs": [
    {
     "name": "stdin",
     "output_type": "stream",
     "text": [
      "Enter your first number =  45\n",
      "Enter your second number =  43\n"
     ]
    },
    {
     "name": "stdout",
     "output_type": "stream",
     "text": [
      "Your sum is = 88\n"
     ]
    }
   ],
   "source": [
    "num1 = int(input(\"Enter your first number = \"))\n",
    "num2 = int(input(\"Enter your second number = \"))\n",
    "result = num1 + num2\n",
    "print(f\"Your sum is = {result}\")"
   ]
  }
 ],
 "metadata": {
  "kernelspec": {
   "display_name": "Python 3 (ipykernel)",
   "language": "python",
   "name": "python3"
  },
  "language_info": {
   "codemirror_mode": {
    "name": "ipython",
    "version": 3
   },
   "file_extension": ".py",
   "mimetype": "text/x-python",
   "name": "python",
   "nbconvert_exporter": "python",
   "pygments_lexer": "ipython3",
   "version": "3.9.2"
  }
 },
 "nbformat": 4,
 "nbformat_minor": 5
}
